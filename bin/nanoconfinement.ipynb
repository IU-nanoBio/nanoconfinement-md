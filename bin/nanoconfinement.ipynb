{
 "cells": [
  {
   "cell_type": "code",
   "execution_count": null,
   "metadata": {
    "extensions": {
     "jupyter_dashboards": {
      "version": 1,
      "views": {
       "grid_default": {},
       "report_default": {
        "hidden": true
       }
      }
     }
    },
    "scrolled": false
   },
   "outputs": [],
   "source": [
    "%matplotlib notebook\n",
    "%run nanoconfinement-frontend.ipynb"
   ]
  },
  {
   "cell_type": "code",
   "execution_count": null,
   "metadata": {
    "extensions": {
     "jupyter_dashboards": {
      "version": 1,
      "views": {
       "grid_default": {},
       "report_default": {
        "hidden": false
       }
      }
     }
    },
    "scrolled": false
   },
   "outputs": [],
   "source": [
    "display(gui)"
   ]
  }
 ],
 "metadata": {
  "extensions": {
   "jupyter_dashboards": {
    "activeView": "report_default",
    "version": 1,
    "views": {
     "grid_default": {
      "cellMargin": 10,
      "defaultCellHeight": 20,
      "maxColumns": 12,
      "name": "grid",
      "type": "grid"
     },
     "report_default": {
      "name": "report",
      "type": "report"
     }
    }
   }
  },
  "kernelspec": {
   "display_name": "Python 3",
   "language": "python",
   "name": "python3"
  },
  "language_info": {
   "codemirror_mode": {
    "name": "ipython",
    "version": 3
   },
   "file_extension": ".py",
   "mimetype": "text/x-python",
   "name": "python",
   "nbconvert_exporter": "python",
   "pygments_lexer": "ipython3",
   "version": "3.6.5"
  },
  "tool": false,
  "widgets": {
   "application/vnd.jupyter.widget-state+json": {
    "state": {
     "0928bdb3f16145de8f3bdc629c434672": {
      "model_module": "@jupyter-widgets/base",
      "model_module_version": "1.0.0",
      "model_name": "LayoutModel",
      "state": {}
     },
     "113232b6f0b0489c857571e43b2fc7c0": {
      "model_module": "@jupyter-widgets/controls",
      "model_module_version": "1.0.0",
      "model_name": "HTMLModel",
      "state": {
       "layout": "IPY_MODEL_33445fc625f34d0bbeeddd4c97736d58",
       "style": "IPY_MODEL_6d300a697da3458c80bec3d9f5dd9aee",
       "value": "<img src=\"imageV5.jpg\" style=\"width: 300px\"/>"
      }
     },
     "17e316ab391d438ea2d65e76f4767f5e": {
      "model_module": "@jupyter-widgets/base",
      "model_module_version": "1.0.0",
      "model_name": "LayoutModel",
      "state": {}
     },
     "1b37f86d44a84a748bf0f856f082f995": {
      "model_module": "@jupyter-widgets/controls",
      "model_module_version": "1.0.0",
      "model_name": "DropdownModel",
      "state": {
       "_options_labels": [
        "1(monovalent)",
        "2(divalent)",
        "3(trivalent)"
       ],
       "description": "Positive Ion Valency (z)",
       "index": 2,
       "layout": "IPY_MODEL_0928bdb3f16145de8f3bdc629c434672",
       "style": "IPY_MODEL_42bfc62f7b0a40b28042c92ea51358b6"
      }
     },
     "1c1ce5a816634e95ba4fd9c260a0e035": {
      "model_module": "@jupyter-widgets/controls",
      "model_module_version": "1.0.0",
      "model_name": "BoundedFloatTextModel",
      "state": {
       "description": "Ion Diameter (nm):",
       "layout": "IPY_MODEL_b75073530edf4a96b67df16319442848",
       "max": 0.8,
       "min": 0.5,
       "step": 0.001,
       "style": "IPY_MODEL_cba8a7396c344ef49134b9b3b3577ef5",
       "value": 0.714
      }
     },
     "24a70f35d36b4d4eb6b8faef61e818e1": {
      "model_module": "@jupyter-widgets/controls",
      "model_module_version": "1.0.0",
      "model_name": "BoundedFloatTextModel",
      "state": {
       "description": "Salt Concentration (c in M):",
       "layout": "IPY_MODEL_2fedeb6b81c543169901f6f01ed839cd",
       "max": 0.9,
       "min": 0.3,
       "style": "IPY_MODEL_45d6aa209f234a8a9a5d856d1b8c4894",
       "value": 0.7
      }
     },
     "2fedeb6b81c543169901f6f01ed839cd": {
      "model_module": "@jupyter-widgets/base",
      "model_module_version": "1.0.0",
      "model_name": "LayoutModel",
      "state": {}
     },
     "33445fc625f34d0bbeeddd4c97736d58": {
      "model_module": "@jupyter-widgets/base",
      "model_module_version": "1.0.0",
      "model_name": "LayoutModel",
      "state": {}
     },
     "36d5fefc93e84ab081d80ce41001de6f": {
      "model_module": "@jupyter-widgets/controls",
      "model_module_version": "1.0.0",
      "model_name": "ButtonModel",
      "state": {
       "description": "Simulate",
       "layout": "IPY_MODEL_f4cbb854239940da8e36bc8f9611fd13",
       "style": "IPY_MODEL_90d2800131be4e46b2b415fae5cc3976"
      }
     },
     "421f485f7df44b158c5ebc2cead2e4fc": {
      "model_module": "@jupyter-widgets/base",
      "model_module_version": "1.0.0",
      "model_name": "LayoutModel",
      "state": {}
     },
     "42bfc62f7b0a40b28042c92ea51358b6": {
      "model_module": "@jupyter-widgets/controls",
      "model_module_version": "1.0.0",
      "model_name": "DescriptionStyleModel",
      "state": {
       "description_width": "initial"
      }
     },
     "45d6aa209f234a8a9a5d856d1b8c4894": {
      "model_module": "@jupyter-widgets/controls",
      "model_module_version": "1.0.0",
      "model_name": "DescriptionStyleModel",
      "state": {
       "description_width": "initial"
      }
     },
     "45d97dd36250486787312d12a1a0eaf2": {
      "model_module": "@jupyter-widgets/controls",
      "model_module_version": "1.0.0",
      "model_name": "BoundedIntTextModel",
      "state": {
       "description": "Simulation Steps:",
       "layout": "IPY_MODEL_bf0216a2f8b24c489de53ab167969b49",
       "max": 5000000,
       "min": 20000,
       "step": 10000,
       "style": "IPY_MODEL_e4131453ffbf4876acdf9652cdb5b893",
       "value": 20000
      }
     },
     "520b6eb96ab54cd9a7c50b7bd2960207": {
      "model_module": "@jupyter-widgets/controls",
      "model_module_version": "1.0.0",
      "model_name": "DescriptionStyleModel",
      "state": {
       "description_width": "initial"
      }
     },
     "5b8456ddd09d48d8b782d04c0f5a8666": {
      "model_module": "@jupyter-widgets/controls",
      "model_module_version": "1.0.0",
      "model_name": "DescriptionStyleModel",
      "state": {
       "description_width": "initial"
      }
     },
     "6b49ad221a4f4738b7967d0195642151": {
      "model_module": "@jupyter-widgets/controls",
      "model_module_version": "1.0.0",
      "model_name": "BoundedFloatTextModel",
      "state": {
       "description": "Confinement Length (nm):",
       "layout": "IPY_MODEL_17e316ab391d438ea2d65e76f4767f5e",
       "max": 4,
       "min": 2,
       "style": "IPY_MODEL_747d7d8031df4ff984c508e9da864b35",
       "value": 3
      }
     },
     "6d300a697da3458c80bec3d9f5dd9aee": {
      "model_module": "@jupyter-widgets/controls",
      "model_module_version": "1.0.0",
      "model_name": "DescriptionStyleModel",
      "state": {
       "description_width": ""
      }
     },
     "73d6a9e62f6d40938e21e2c7fd5daf6a": {
      "model_module": "@jupyter-widgets/base",
      "model_module_version": "1.0.0",
      "model_name": "LayoutModel",
      "state": {}
     },
     "747d7d8031df4ff984c508e9da864b35": {
      "model_module": "@jupyter-widgets/controls",
      "model_module_version": "1.0.0",
      "model_name": "DescriptionStyleModel",
      "state": {
       "description_width": "initial"
      }
     },
     "75176e8e3f694980b4e2156ab5fdba16": {
      "model_module": "@jupyter-widgets/base",
      "model_module_version": "1.0.0",
      "model_name": "LayoutModel",
      "state": {}
     },
     "76459a9affde44d0a9daa29363008e4a": {
      "model_module": "@jupyter-widgets/controls",
      "model_module_version": "1.0.0",
      "model_name": "VBoxModel",
      "state": {
       "children": [
        "IPY_MODEL_fa7df53473e2422e9184a389817fa28a",
        "IPY_MODEL_24a70f35d36b4d4eb6b8faef61e818e1",
        "IPY_MODEL_1b37f86d44a84a748bf0f856f082f995",
        "IPY_MODEL_aaaf4ee3198948a28c188b9237d15a9f",
        "IPY_MODEL_6b49ad221a4f4738b7967d0195642151",
        "IPY_MODEL_1c1ce5a816634e95ba4fd9c260a0e035",
        "IPY_MODEL_8d645f6477254c368de96a816ed5e9f1",
        "IPY_MODEL_45d97dd36250486787312d12a1a0eaf2",
        "IPY_MODEL_113232b6f0b0489c857571e43b2fc7c0",
        "IPY_MODEL_36d5fefc93e84ab081d80ce41001de6f"
       ],
       "layout": "IPY_MODEL_dcca354f544646418d0eeb48fd1b5a9e"
      }
     },
     "8d645f6477254c368de96a816ed5e9f1": {
      "model_module": "@jupyter-widgets/controls",
      "model_module_version": "1.0.0",
      "model_name": "HTMLModel",
      "state": {
       "layout": "IPY_MODEL_421f485f7df44b158c5ebc2cead2e4fc",
       "style": "IPY_MODEL_de576513a12147e8bc083aeec4971950",
       "value": "<p   style='background-color: #DCDCDC; font-size:200; padding: 5px'>Computing</p>"
      }
     },
     "90d2800131be4e46b2b415fae5cc3976": {
      "model_module": "@jupyter-widgets/controls",
      "model_module_version": "1.0.0",
      "model_name": "ButtonStyleModel",
      "state": {}
     },
     "aaaf4ee3198948a28c188b9237d15a9f": {
      "model_module": "@jupyter-widgets/controls",
      "model_module_version": "1.0.0",
      "model_name": "DropdownModel",
      "state": {
       "_options_labels": [
        "-1",
        "-2",
        "-3"
       ],
       "description": "Negative Ion Valency",
       "index": 0,
       "layout": "IPY_MODEL_75176e8e3f694980b4e2156ab5fdba16",
       "style": "IPY_MODEL_520b6eb96ab54cd9a7c50b7bd2960207"
      }
     },
     "b75073530edf4a96b67df16319442848": {
      "model_module": "@jupyter-widgets/base",
      "model_module_version": "1.0.0",
      "model_name": "LayoutModel",
      "state": {}
     },
     "b9eaabc9eb4144fc82a2c63b9ef58541": {
      "model_module": "@jupyter-widgets/controls",
      "model_module_version": "1.0.0",
      "model_name": "DropdownModel",
      "state": {
       "_options_labels": [
        "1(monovalent)",
        "2(divalent)",
        "3(trivalent)"
       ],
       "description": "Positive Ion Valency (z)",
       "index": 0,
       "layout": "IPY_MODEL_c9aa90d11bec44f4aa17ca4467b7ff64",
       "style": "IPY_MODEL_5b8456ddd09d48d8b782d04c0f5a8666"
      }
     },
     "bf0216a2f8b24c489de53ab167969b49": {
      "model_module": "@jupyter-widgets/base",
      "model_module_version": "1.0.0",
      "model_name": "LayoutModel",
      "state": {}
     },
     "c9aa90d11bec44f4aa17ca4467b7ff64": {
      "model_module": "@jupyter-widgets/base",
      "model_module_version": "1.0.0",
      "model_name": "LayoutModel",
      "state": {}
     },
     "cba8a7396c344ef49134b9b3b3577ef5": {
      "model_module": "@jupyter-widgets/controls",
      "model_module_version": "1.0.0",
      "model_name": "DescriptionStyleModel",
      "state": {
       "description_width": "initial"
      }
     },
     "dcca354f544646418d0eeb48fd1b5a9e": {
      "model_module": "@jupyter-widgets/base",
      "model_module_version": "1.0.0",
      "model_name": "LayoutModel",
      "state": {}
     },
     "de576513a12147e8bc083aeec4971950": {
      "model_module": "@jupyter-widgets/controls",
      "model_module_version": "1.0.0",
      "model_name": "DescriptionStyleModel",
      "state": {
       "description_width": ""
      }
     },
     "e4131453ffbf4876acdf9652cdb5b893": {
      "model_module": "@jupyter-widgets/controls",
      "model_module_version": "1.0.0",
      "model_name": "DescriptionStyleModel",
      "state": {
       "description_width": "initial"
      }
     },
     "eba521d82a8f43bd996a3598254ea209": {
      "model_module": "@jupyter-widgets/controls",
      "model_module_version": "1.0.0",
      "model_name": "DescriptionStyleModel",
      "state": {
       "description_width": ""
      }
     },
     "f4cbb854239940da8e36bc8f9611fd13": {
      "model_module": "@jupyter-widgets/base",
      "model_module_version": "1.0.0",
      "model_name": "LayoutModel",
      "state": {}
     },
     "fa7df53473e2422e9184a389817fa28a": {
      "model_module": "@jupyter-widgets/controls",
      "model_module_version": "1.0.0",
      "model_name": "HTMLModel",
      "state": {
       "layout": "IPY_MODEL_73d6a9e62f6d40938e21e2c7fd5daf6a",
       "style": "IPY_MODEL_eba521d82a8f43bd996a3598254ea209",
       "value": "<p   style='background-color: #DCDCDC; font-size:200; padding: 5px'>Physical</p>"
      }
     }
    },
    "version_major": 2,
    "version_minor": 0
   }
  }
 },
 "nbformat": 4,
 "nbformat_minor": 2
}
